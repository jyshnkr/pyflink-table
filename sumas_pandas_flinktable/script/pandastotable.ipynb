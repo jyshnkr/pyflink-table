{
  "nbformat": 4,
  "nbformat_minor": 0,
  "metadata": {
    "colab": {
      "name": "Untitled1.ipynb",
      "provenance": [],
      "toc_visible": true,
      "authorship_tag": "ABX9TyO2HpVHMkPXVF4Jgi2OzaGw",
      "include_colab_link": true
    },
    "kernelspec": {
      "name": "python3",
      "display_name": "Python 3"
    }
  },
  "cells": [
    {
      "cell_type": "markdown",
      "metadata": {
        "id": "view-in-github",
        "colab_type": "text"
      },
      "source": [
        "<a href=\"https://colab.research.google.com/github/rohan6471/pyflink-table/blob/main/pandastotable.ipynb\" target=\"_parent\"><img src=\"https://colab.research.google.com/assets/colab-badge.svg\" alt=\"Open In Colab\"/></a>"
      ]
    },
    {
      "cell_type": "code",
      "metadata": {
        "colab": {
          "base_uri": "https://localhost:8080/",
          "height": 507
        },
        "id": "2YcZGQu7hG19",
        "outputId": "675c4e1d-ae3a-4d9e-c8ae-601b1627bb82"
      },
      "source": [
        "from pyflink.table import StreamTableEnvironment, DataTypes, table_config\r\n",
        "from pyflink.datastream import StreamExecutionEnvironment\r\n",
        "\r\n",
        "import pandas as pd\r\n",
        "\r\n",
        "\r\n",
        "env = StreamExecutionEnvironment.get_execution_environment()\r\n",
        "env.set_parallelism(1)\r\n",
        "t_config = table_config.TableConfig()\r\n",
        "t_env = StreamTableEnvironment.create(env,t_config)\r\n",
        "t_env.get_config().get_configuration().set_boolean(\"python.fn-execution.memory.managed\", True)\r\n",
        "\r\n",
        "\r\n",
        "df = pd.read_csv(\"/content/netflix_titles.csv\")\r\n",
        "print(\"df type:{}\".format(type(df)))\r\n",
        "col = ['show_id', 'type', 'title']\r\n",
        "\r\n",
        "table = t_env.from_pandas(df,col)\r\n",
        "print(\"table type:\",type(table))\r\n",
        "\r\n",
        "table.select(\"show_id, type\").to_pandas()"
      ],
      "execution_count": 3,
      "outputs": [
        {
          "output_type": "stream",
          "text": [
            "df type:<class 'pandas.core.frame.DataFrame'>\n",
            "table type: <class 'pyflink.table.table.Table'>\n"
          ],
          "name": "stdout"
        },
        {
          "output_type": "stream",
          "text": [
            "/usr/local/lib/python3.6/dist-packages/pyflink/table/utils.py:44: FutureWarning: Schema passed to names= option, please pass schema= explicitly. Will raise exception in future\n",
            "  return pa.RecordBatch.from_arrays(arrays, schema)\n"
          ],
          "name": "stderr"
        },
        {
          "output_type": "execute_result",
          "data": {
            "text/html": [
              "<div>\n",
              "<style scoped>\n",
              "    .dataframe tbody tr th:only-of-type {\n",
              "        vertical-align: middle;\n",
              "    }\n",
              "\n",
              "    .dataframe tbody tr th {\n",
              "        vertical-align: top;\n",
              "    }\n",
              "\n",
              "    .dataframe thead th {\n",
              "        text-align: right;\n",
              "    }\n",
              "</style>\n",
              "<table border=\"1\" class=\"dataframe\">\n",
              "  <thead>\n",
              "    <tr style=\"text-align: right;\">\n",
              "      <th></th>\n",
              "      <th>show_id</th>\n",
              "      <th>type</th>\n",
              "    </tr>\n",
              "  </thead>\n",
              "  <tbody>\n",
              "    <tr>\n",
              "      <th>0</th>\n",
              "      <td>s1</td>\n",
              "      <td>TV Show</td>\n",
              "    </tr>\n",
              "    <tr>\n",
              "      <th>1</th>\n",
              "      <td>s2</td>\n",
              "      <td>Movie</td>\n",
              "    </tr>\n",
              "    <tr>\n",
              "      <th>2</th>\n",
              "      <td>s3</td>\n",
              "      <td>Movie</td>\n",
              "    </tr>\n",
              "    <tr>\n",
              "      <th>3</th>\n",
              "      <td>s4</td>\n",
              "      <td>Movie</td>\n",
              "    </tr>\n",
              "    <tr>\n",
              "      <th>4</th>\n",
              "      <td>s5</td>\n",
              "      <td>Movie</td>\n",
              "    </tr>\n",
              "    <tr>\n",
              "      <th>...</th>\n",
              "      <td>...</td>\n",
              "      <td>...</td>\n",
              "    </tr>\n",
              "    <tr>\n",
              "      <th>7782</th>\n",
              "      <td>s7783</td>\n",
              "      <td>Movie</td>\n",
              "    </tr>\n",
              "    <tr>\n",
              "      <th>7783</th>\n",
              "      <td>s7784</td>\n",
              "      <td>Movie</td>\n",
              "    </tr>\n",
              "    <tr>\n",
              "      <th>7784</th>\n",
              "      <td>s7785</td>\n",
              "      <td>Movie</td>\n",
              "    </tr>\n",
              "    <tr>\n",
              "      <th>7785</th>\n",
              "      <td>s7786</td>\n",
              "      <td>TV Show</td>\n",
              "    </tr>\n",
              "    <tr>\n",
              "      <th>7786</th>\n",
              "      <td>s7787</td>\n",
              "      <td>Movie</td>\n",
              "    </tr>\n",
              "  </tbody>\n",
              "</table>\n",
              "<p>7787 rows × 2 columns</p>\n",
              "</div>"
            ],
            "text/plain": [
              "     show_id     type\n",
              "0         s1  TV Show\n",
              "1         s2    Movie\n",
              "2         s3    Movie\n",
              "3         s4    Movie\n",
              "4         s5    Movie\n",
              "...      ...      ...\n",
              "7782   s7783    Movie\n",
              "7783   s7784    Movie\n",
              "7784   s7785    Movie\n",
              "7785   s7786  TV Show\n",
              "7786   s7787    Movie\n",
              "\n",
              "[7787 rows x 2 columns]"
            ]
          },
          "metadata": {
            "tags": []
          },
          "execution_count": 3
        }
      ]
    }
  ]
}